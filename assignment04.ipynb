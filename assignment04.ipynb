{
 "cells": [
  {
   "cell_type": "code",
   "execution_count": null,
   "metadata": {},
   "outputs": [],
   "source": [
    "prompt = \"How old are you?\"\n",
    "prompt += \"\\nEnter 'quit' when you are finished. \"\n",
    "\n",
    "while True:\n",
    "    age = input(prompt)\n",
    "    if age == 'quit':\n",
    "        break\n",
    "    age = int(age)\n",
    "\n",
    "    if age < 3:\n",
    "        print(\"  You get in free!\")\n",
    "    elif age < 13:\n",
    "        print(\"  Your ticket is $10.\")\n",
    "    else:\n",
    "        print(\"  Your ticket is $15.\")"
   ]
  },
  {
   "cell_type": "code",
   "execution_count": 2,
   "metadata": {},
   "outputs": [
    {
     "name": "stdout",
     "output_type": "stream",
     "text": [
      "{'first_name': 'Ali', 'last_name': 'jee', 'age': 23, 'city': 'Khi'}\n",
      "{'first_name': 'Ali', 'last_name': 'jee', 'age': 23, 'city': 'Khi', 'Qualification': 'BC in Computer Engineering'}\n",
      "{'first_name': 'Ali', 'last_name': 'jee', 'age': 23, 'city': 'Khi'}\n"
     ]
    }
   ],
   "source": [
    "person = {\n",
    "    'first_name':'Ali',\n",
    "    'last_name': 'jee',\n",
    "    'age': 23,\n",
    "    'city': 'Khi',\n",
    "    }\n",
    "print (person)\n",
    "person['Qualification']='BC in Computer Engineering'  \n",
    "print (person)\n",
    "del person['Qualification']\n",
    "print (person)"
   ]
  },
  {
   "cell_type": "code",
   "execution_count": 3,
   "metadata": {},
   "outputs": [
    {
     "name": "stdout",
     "output_type": "stream",
     "text": [
      "\n",
      "Karachi is in Pakistan.\n",
      "  It has a population of about 14910352.\n",
      "  The Fifth ranked in the world.\n",
      "\n",
      "Istanbul is in Turkey.\n",
      "  It has a population of about 82003882.\n",
      "  The 28Th  ranked in the world.\n",
      "\n",
      "Kuala Lumpur is in Maylaisa.\n",
      "  It has a population of about 17310.\n",
      "  The 29Th ranked in the world.\n"
     ]
    }
   ],
   "source": [
    "cities = {\n",
    "    'Karachi': {\n",
    "        'country': 'Pakistan',\n",
    "        'population':14910352,\n",
    "        'ranked': 'fifth',\n",
    "        },\n",
    "    'Istanbul': {\n",
    "        'country': 'Turkey',\n",
    "        'population': 82003882 ,\n",
    "        'ranked': '28th ',\n",
    "        },\n",
    "    'Kuala lumpur': {\n",
    "        'country': 'Maylaisa',\n",
    "        'population': 17310 ,\n",
    "        'ranked': '29th',\n",
    "        }\n",
    "    }\n",
    "\n",
    "for city, city_info in cities.items():\n",
    "    country = city_info['country'].title()\n",
    "    population = city_info['population']\n",
    "    ranked = city_info['ranked'].title()\n",
    "\n",
    "    print(\"\\n\" + city.title() + \" is in \" + country + \".\")\n",
    "    print(\"  It has a population of about \" + str(population) + \".\")\n",
    "    print(\"  The \" + ranked + \" ranked in the world.\")\n"
   ]
  },
  {
   "cell_type": "code",
   "execution_count": null,
   "metadata": {},
   "outputs": [],
   "source": [
    "def favorite_book(title):\n",
    "    \"\"\"Display a message about someone's favorite book.\"\"\"\n",
    "    print(title + \" is one of my favorite books.\")\n",
    "favorite_book('The Abstract Wild')"
   ]
  },
  {
   "cell_type": "code",
   "execution_count": null,
   "metadata": {},
   "outputs": [],
   "source": [
    "import random\n",
    "random=random.randint(1,30)\n",
    "print(\"================HINT================\")\n",
    "if random>= 1 and random < 10:\n",
    "    print(\"try a number between 1 and 10\")\n",
    "elif random>= 10 and random< 20:\n",
    "    print(\"try a number between 10 and 20\")\n",
    "elif random>= 20 and random< 30:\n",
    "    print(\"try a number between 20 and 30\")\n",
    "for i in range(0,3):\n",
    "    user = int(input(\"enter your guess: \"))\n",
    "    if user < 1 or user > 30:\n",
    "        print(\"choose a number between 1 and 30\")\n",
    "    else:\n",
    "        if user == random:\n",
    "            print(\"your guess is right\")\n",
    "            break\n",
    "        else:\n",
    "            print(\"your guess is wrong\")\n",
    "            print(\"============better luck next time :-)============\")"
   ]
  },
  {
   "cell_type": "code",
   "execution_count": null,
   "metadata": {},
   "outputs": [],
   "source": []
  }
 ],
 "metadata": {
  "kernelspec": {
   "display_name": "Python 3",
   "language": "python",
   "name": "python3"
  },
  "language_info": {
   "codemirror_mode": {
    "name": "ipython",
    "version": 3
   },
   "file_extension": ".py",
   "mimetype": "text/x-python",
   "name": "python",
   "nbconvert_exporter": "python",
   "pygments_lexer": "ipython3",
   "version": "3.7.4"
  }
 },
 "nbformat": 4,
 "nbformat_minor": 2
}
