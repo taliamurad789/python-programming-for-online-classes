{
 "cells": [
  {
   "cell_type": "code",
   "execution_count": 1,
   "metadata": {},
   "outputs": [
    {
     "name": "stdout",
     "output_type": "stream",
     "text": [
      "Enter Maths Marks : 90\n",
      "Enter English Marks : 89\n",
      "Enter Urdu Marks : 79\n",
      "Enter Chemistry Marks : 66\n",
      "Enter Physics Marks : 70\n",
      "Total Marks: 394\n",
      "Grade : B\n"
     ]
    }
   ],
   "source": [
    "math=int(input(\"Enter Maths Marks : \"))\n",
    "english=int(input(\"Enter English Marks : \"))\n",
    "urdu=int(input(\"Enter Urdu Marks : \"))\n",
    "chemistry=int(input(\"Enter Chemistry Marks : \"))\n",
    "physics=int(input(\"Enter Physics Marks : \"))\n",
    "total_marks=math+english+urdu+chemistry+physics\n",
    "print(\"Total Marks: \" + str(total_marks))\n",
    "marks_Percentage=(total_marks/500)*100\n",
    "if(marks_Percentage>=80):\n",
    "    print(\"Grade : A\")\n",
    "elif(marks_Percentage>=60):\n",
    "    print(\"Grade : B\")\n",
    "elif(marks_Percentage>=40):\n",
    "    print(\"Grade : C\")\n",
    "else:\n",
    "    print(\"Fail\")\n",
    "    "
   ]
  },
  {
   "cell_type": "code",
   "execution_count": 2,
   "metadata": {},
   "outputs": [
    {
     "name": "stdout",
     "output_type": "stream",
     "text": [
      "Enter a number : 6\n",
      "Even Number\n"
     ]
    }
   ],
   "source": [
    "number=int(input(\"Enter a number : \"))\n",
    "if(number%2==0):\n",
    "    print(\"Even Number\")\n",
    "else:\n",
    "    print(\"Odd Number\")"
   ]
  },
  {
   "cell_type": "code",
   "execution_count": 3,
   "metadata": {},
   "outputs": [
    {
     "name": "stdout",
     "output_type": "stream",
     "text": [
      "Length of list : 9\n"
     ]
    }
   ],
   "source": [
    "a=[43,72,23,921,234,324,823,534,234]\n",
    "print(\"Length of list : \"+str(len(a)))"
   ]
  },
  {
   "cell_type": "code",
   "execution_count": 4,
   "metadata": {},
   "outputs": [
    {
     "name": "stdout",
     "output_type": "stream",
     "text": [
      "Sum : 2562\n"
     ]
    }
   ],
   "source": [
    "list_of_numbers=[83,472,3,21,834,324,34,23,534,234]\n",
    "sum=0\n",
    "for f in list_of_numbers:\n",
    "    sum=sum+f\n",
    "print(\"Sum : \"+str(sum))"
   ]
  },
  {
   "cell_type": "code",
   "execution_count": 5,
   "metadata": {},
   "outputs": [
    {
     "name": "stdout",
     "output_type": "stream",
     "text": [
      "Maximum number in list : 834\n"
     ]
    }
   ],
   "source": [
    "list_of_numbers=[83,472,3,21,834,324,34,23,534,234]\n",
    "print(\"Maximum number in list : \"+str(max(list_of_numbers)))"
   ]
  },
  {
   "cell_type": "code",
   "execution_count": 11,
   "metadata": {},
   "outputs": [
    {
     "name": "stdout",
     "output_type": "stream",
     "text": [
      "Number less than 5 : 1\n",
      "Number less than 5 : 1\n",
      "Number less than 5 : 2\n",
      "Number less than 5 : 3\n"
     ]
    }
   ],
   "source": [
    "\n",
    "#Take a list, say for example this one: a=[1,1,2,3,5,8,13,21,34,55,89] and write a program that prints out all the elements of the list that are less than 5\n",
    "a=[1,1,2,3,5,8,13,21,34,55,89]\n",
    "for num in a:\n",
    "    if(num<5):\n",
    "        print(\"Number less than 5 : \"+str(num))"
   ]
  },
  {
   "cell_type": "code",
   "execution_count": null,
   "metadata": {},
   "outputs": [],
   "source": []
  }
 ],
 "metadata": {
  "kernelspec": {
   "display_name": "Python 3",
   "language": "python",
   "name": "python3"
  },
  "language_info": {
   "codemirror_mode": {
    "name": "ipython",
    "version": 3
   },
   "file_extension": ".py",
   "mimetype": "text/x-python",
   "name": "python",
   "nbconvert_exporter": "python",
   "pygments_lexer": "ipython3",
   "version": "3.7.4"
  }
 },
 "nbformat": 4,
 "nbformat_minor": 2
}
