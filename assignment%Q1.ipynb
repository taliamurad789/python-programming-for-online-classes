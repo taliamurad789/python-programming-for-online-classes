{
 "cells": [
  {
   "cell_type": "code",
   "execution_count": 1,
   "metadata": {},
   "outputs": [
    {
     "name": "stdout",
     "output_type": "stream",
     "text": [
      "twinkle, twinkle,little star .\n",
      " \t how i wonder  what you are\n",
      " \t\t up above the world so high,\n",
      " \t\t like a daimond in the sky\n",
      " twinkle, twinkle,little star .\n",
      " \t how i wonder  what you are\n",
      "\n"
     ]
    }
   ],
   "source": [
    "a=\"twinkle, twinkle,little star .\\n\"\n",
    "b=\"\\t how i wonder  what you are\\n\"\n",
    "c=\"\\t\\t up above the world so high,\\n\"\n",
    "d=\"\\t\\t like a daimond in the sky\\n\"\n",
    "\n",
    "print(a,b,c,d,a,b)  "
   ]
  },
  {
   "cell_type": "code",
   "execution_count": 6,
   "metadata": {},
   "outputs": [
    {
     "name": "stdout",
     "output_type": "stream",
     "text": [
      "enter radius of a circle9\n",
      "area of circle is 254.34\n"
     ]
    }
   ],
   "source": [
    "x = input(\"enter radius of a circle\")\n",
    "r = int(x)\n",
    "a = 3.14*r**2\n",
    "print(\"area of circle is\",a)"
   ]
  },
  {
   "cell_type": "code",
   "execution_count": null,
   "metadata": {},
   "outputs": [],
   "source": []
  }
 ],
 "metadata": {
  "kernelspec": {
   "display_name": "Python 3",
   "language": "python",
   "name": "python3"
  },
  "language_info": {
   "codemirror_mode": {
    "name": "ipython",
    "version": 3
   },
   "file_extension": ".py",
   "mimetype": "text/x-python",
   "name": "python",
   "nbconvert_exporter": "python",
   "pygments_lexer": "ipython3",
   "version": "3.7.4"
  }
 },
 "nbformat": 4,
 "nbformat_minor": 2
}
